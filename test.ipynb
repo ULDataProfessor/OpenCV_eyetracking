{
 "cells": [
  {
   "cell_type": "code",
   "execution_count": null,
   "metadata": {
    "collapsed": true,
    "pycharm": {
     "name": "#%%\n",
     "is_executing": true
    }
   },
   "outputs": [],
   "source": [
    "import cv2\n",
    "from gaze_tracking import GazeTracking\n",
    "\n",
    "gaze = GazeTracking()\n",
    "webcam = cv2.VideoCapture(0)\n",
    "\n",
    "while True:\n",
    "    _, frame = webcam.read()\n",
    "    gaze.refresh(frame)\n",
    "\n",
    "    new_frame = gaze.annotated_frame()\n",
    "    text = \"\"\n",
    "\n",
    "    if gaze.is_right():\n",
    "        text = \"Смотрит влево\"\n",
    "    elif gaze.is_left():\n",
    "        text = \"Смотрит вправо\"\n",
    "    elif gaze.is_center():\n",
    "        text = \"Смотрит прямо\"\n",
    "    elif gaze.is_blinking():\n",
    "        text = \"Моргает\"\n",
    "    cv2.putText(new_frame, text, (60, 60), cv2.FONT_HERSHEY_COMPLEX, 2, (255, 0, 0), 2)\n",
    "    cv2.imshow(\"Demo\", new_frame)\n",
    "\n",
    "    if cv2.waitKey(1) == 27:\n",
    "        break"
   ]
  },
  {
   "cell_type": "code",
   "execution_count": null,
   "outputs": [],
   "source": [],
   "metadata": {
    "collapsed": false,
    "pycharm": {
     "name": "#%%\n"
    }
   }
  }
 ],
 "metadata": {
  "kernelspec": {
   "display_name": "Python 3",
   "language": "python",
   "name": "python3"
  },
  "language_info": {
   "codemirror_mode": {
    "name": "ipython",
    "version": 2
   },
   "file_extension": ".py",
   "mimetype": "text/x-python",
   "name": "python",
   "nbconvert_exporter": "python",
   "pygments_lexer": "ipython2",
   "version": "2.7.6"
  }
 },
 "nbformat": 4,
 "nbformat_minor": 0
}